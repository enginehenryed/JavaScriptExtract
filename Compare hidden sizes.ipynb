{
 "cells": [
  {
   "cell_type": "code",
   "execution_count": 52,
   "metadata": {},
   "outputs": [
    {
     "data": {
      "image/png": "[encoded data removed]",
      "text/plain": [
       "<matplotlib.figure.Figure at 0x7f95eea9ae80>"
      ]
     },
     "metadata": {},
     "output_type": "display_data"
    }
   ],
   "source": [
    "%matplotlib inline\n",
    "import matplotlib.pyplot as plt\n",
    "import numpy as np\n",
    "sim_dic = {}\n",
    "seq_dic = {}\n",
    "dim_list = ['64','256','512']\n",
    "\n",
    "mode = 'val'\n",
    "criterion = 'sim'\n",
    "for dim in dim_list:\n",
    "    file='saves/base_dim_%s/log_%s.txt'%(dim,mode)\n",
    "    with open(file) as f:\n",
    "        lines = f.read().strip().split('\\n')\n",
    "    if dim=='256':\n",
    "        lines = lines[:len(seq_dic[dim_list[0]])]\n",
    "    seq_dic[dim]=[]\n",
    "    sim_dic[dim]=[]\n",
    "    for line in lines:\n",
    "        if mode=='train':\n",
    "            _, sim, seq = line.split(',')\n",
    "            sim = sim.split('\\t')[0].split(':')[1].strip()\n",
    "            seq = seq.replace('acc: ','').strip()\n",
    "        else:\n",
    "            sim, seq = line.split('\\tSequence: ')\n",
    "            sim = sim.split('Similarity: ')[-1]\n",
    "        seq_dic[dim].append(seq)\n",
    "        sim_dic[dim].append(sim)\n",
    "    if criterion=='sim':\n",
    "        dic = sim_dic\n",
    "    else:\n",
    "        dic = seq_dic\n",
    "    x = np.arange(len(dic[dim]))\n",
    "    y = np.array([float(x) for x in dic[dim]])\n",
    "    plt.plot(x,y,label=dim)\n",
    "plt.legend(loc='best')\n",
    "plt.show()"
   ]
  },
  {
   "cell_type": "code",
   "execution_count": 49,
   "metadata": {},
   "outputs": [
    {
     "data": {
      "text/plain": [
       "'Validation results: accuracy - Similarity: 0.546\\tSequence: 0.325'"
      ]
     },
     "execution_count": 49,
     "metadata": {},
     "output_type": "execute_result"
    }
   ],
   "source": [
    "line"
   ]
  },
  {
   "cell_type": "code",
   "execution_count": 38,
   "metadata": {},
   "outputs": [],
   "source": [
    "_, sim, seq = lines[0].split(',')"
   ]
  },
  {
   "cell_type": "code",
   "execution_count": 40,
   "metadata": {},
   "outputs": [],
   "source": [
    "sim = sim.split('\\t')[0].split(':')[1].strip()"
   ]
  },
  {
   "cell_type": "code",
   "execution_count": 42,
   "metadata": {},
   "outputs": [
    {
     "name": "stdout",
     "output_type": "stream",
     "text": [
      " 0.111\n"
     ]
    }
   ],
   "source": [
    "seq = seq.replace('acc: ','').strip()"
   ]
  },
  {
   "cell_type": "code",
   "execution_count": null,
   "metadata": {
    "collapsed": true
   },
   "outputs": [],
   "source": []
  }
 ],
 "metadata": {
  "anaconda-cloud": {},
  "kernelspec": {
   "display_name": "Python [conda env:pytorch]",
   "language": "python",
   "name": "conda-env-pytorch-py"
  },
  "language_info": {
   "codemirror_mode": {
    "name": "ipython",
    "version": 3
   },
   "file_extension": ".py",
   "mimetype": "text/x-python",
   "name": "python",
   "nbconvert_exporter": "python",
   "pygments_lexer": "ipython3",
   "version": "3.5.4"
  }
 },
 "nbformat": 4,
 "nbformat_minor": 2
}
