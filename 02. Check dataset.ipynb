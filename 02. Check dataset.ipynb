{
 "cells": [
  {
   "cell_type": "code",
   "execution_count": null,
   "metadata": {
    "collapsed": true
   },
   "outputs": [],
   "source": [
    "import os\n",
    "from packages.functions import splitline"
   ]
  },
  {
   "cell_type": "code",
   "execution_count": null,
   "metadata": {
    "collapsed": true
   },
   "outputs": [],
   "source": [
    "data_dir = '/home/irteam/users/data/D3/preprocessed_outputs/'\n",
    "files = os.listdir(data_dir)\n",
    "max_size = 10"
   ]
  },
  {
   "cell_type": "code",
   "execution_count": null,
   "metadata": {
    "scrolled": false
   },
   "outputs": [],
   "source": [
    "out_list = []\n",
    "for i,file in enumerate(files):\n",
    "    with open(os.path.join(data_dir,file)) as f:\n",
    "        txt = f.read().strip()\n",
    "    lines = txt.split('\\n')\n",
    "    lines_list = [splitline(line) for line in lines]\n",
    "    start = 2\n",
    "    while start<len(lines_list):\n",
    "        context = lines_list[max(0,start-max_size-1):start-1]\n",
    "        query = lines_list[start]\n",
    "        tup = isSample(context,query)\n",
    "        if tup!=None:\n",
    "            out_list.append(tup)\n",
    "#             print('\\n'.join([' '.join(x) for x in tup[0]]))\n",
    "#             print('\\n')\n",
    "#             print(' '.join(tup[1]))\n",
    "#             print(tup[2])\n",
    "#             print('=============================================')\n",
    "        start+=1\n",
    "    if i%1000==0:\n",
    "        print(i)"
   ]
  },
  {
   "cell_type": "code",
   "execution_count": null,
   "metadata": {
    "collapsed": true
   },
   "outputs": [],
   "source": [
    "out_file = []\n",
    "for tup in out_list:\n",
    "    context = '%NWL%'.join([' '.join(x) for x in tup[0]])\n",
    "    query = ' '.join(tup[1])\n",
    "    num = str(tup[2])\n",
    "    out_file.append('%NWL%'.join([context,query,num]))"
   ]
  },
  {
   "cell_type": "code",
   "execution_count": null,
   "metadata": {
    "collapsed": true
   },
   "outputs": [],
   "source": [
    "with open('/home/irteam/users/data/D3/outputs.txt','w') as f:\n",
    "    f.write('\\n'.join(out_file))"
   ]
  },
  {
   "cell_type": "code",
   "execution_count": null,
   "metadata": {
    "collapsed": true
   },
   "outputs": [],
   "source": [
    "text = '\\n'.join(out_file).replace('%NWL%',' ').replace('\\n',' ').replace('  ',' ')\n",
    "text = text.strip()\n",
    "word_list = text.split(' ')"
   ]
  },
  {
   "cell_type": "code",
   "execution_count": null,
   "metadata": {
    "collapsed": true
   },
   "outputs": [],
   "source": [
    "from collections import Counter\n",
    "import json"
   ]
  },
  {
   "cell_type": "code",
   "execution_count": null,
   "metadata": {
    "collapsed": true
   },
   "outputs": [],
   "source": [
    "counter = Counter(word_list)"
   ]
  },
  {
   "cell_type": "code",
   "execution_count": null,
   "metadata": {
    "collapsed": true
   },
   "outputs": [],
   "source": [
    "dic_size = 30000\n",
    "w2i=dict()\n",
    "w2i['<PAD>']=0\n",
    "w2i['<UNK>']=1\n",
    "w2i['<SOS>']=2\n",
    "w2i['<EOS>']=3\n",
    "for i,tup in enumerate(counter.most_common()[:dic_size-4]):\n",
    "    w2i[tup[0]]=i+4\n",
    "with open('data/dict_%d.json'%dic_size,'w') as f:\n",
    "    json.dump(w2i,f)"
   ]
  },
  {
   "cell_type": "code",
   "execution_count": null,
   "metadata": {
    "collapsed": true
   },
   "outputs": [],
   "source": [
    "# load file\n",
    "data_dir = '/home/irteam/users/data/D3/outputs.txt'\n",
    "with open(data_dir) as f:\n",
    "    text = f.read().split('\\n')"
   ]
  },
  {
   "cell_type": "code",
   "execution_count": null,
   "metadata": {},
   "outputs": [],
   "source": [
    "answers = []\n",
    "for lines in text:\n",
    "    lines = lines.split('%NWL%')\n",
    "    answer = lines[-2]\n",
    "    if len(answer.split(' '))==2:\n",
    "        print(answer)\n",
    "#     answers.append(len(answer.split(' ')))"
   ]
  },
  {
   "cell_type": "code",
   "execution_count": null,
   "metadata": {},
   "outputs": [],
   "source": [
    "sum([1,2,3,4,5,6])"
   ]
  },
  {
   "cell_type": "code",
   "execution_count": 1,
   "metadata": {},
   "outputs": [],
   "source": [
    "from packages.data_loader import get_loader"
   ]
  },
  {
   "cell_type": "code",
   "execution_count": 43,
   "metadata": {},
   "outputs": [],
   "source": [
    "root = '/home/irteam/users/data/D3/outputs.txt'\n",
    "dictionary = 'data/dict_1000.json'\n",
    "data_loader = get_loader(root,2,dictionary,shuffle=True)"
   ]
  },
  {
   "cell_type": "code",
   "execution_count": null,
   "metadata": {
    "collapsed": true
   },
   "outputs": [],
   "source": [
    "parser = argparse.ArgumentParser()\n",
    "parser.add_argument()\n",
    "# data info\n",
    "args = parser.parse_args('--mode',type=str,default='train',help='')\n",
    "args = parser.parse_args('--single',type=bool,default=False,help='whether to only compare from 1 sentence')\n",
    "args = parser.parse_args('--root',type=str,default='/home/irteam/users/data/D3/outputs.txt',help='')\n",
    "args = parser.parse_args('--dict',type=str,default='data/dict_1000.json',help='')\n",
    "args = parser.parse_args('--batch_size',type=int,default=64,help='')\n",
    "args = parser.parse_args('--epochs',type=int,default=20,help='')\n",
    "\n",
    "# model info\n",
    "args = parser.parse_args('--embed_size',type=int,default=300,help='')\n",
    "args = parser.parse_args('--hidden_size',type=int,default=300,help='')\n",
    "args = parser.parse_args('--max_oovs',type=int,default=20,help='')\n",
    "args = parser.parse_args('--lr',type=float,default=0.01,help='')"
   ]
  }
 ],
 "metadata": {
  "kernelspec": {
   "display_name": "Python [conda env:pytorch]",
   "language": "python",
   "name": "conda-env-pytorch-py"
  },
  "language_info": {
   "codemirror_mode": {
    "name": "ipython",
    "version": 3
   },
   "file_extension": ".py",
   "mimetype": "text/x-python",
   "name": "python",
   "nbconvert_exporter": "python",
   "pygments_lexer": "ipython3",
   "version": "3.5.3"
  }
 },
 "nbformat": 4,
 "nbformat_minor": 2
}
