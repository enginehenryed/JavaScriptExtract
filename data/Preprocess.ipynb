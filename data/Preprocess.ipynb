{
 "cells": [
  {
   "cell_type": "code",
   "execution_count": 1,
   "metadata": {
    "collapsed": true
   },
   "outputs": [],
   "source": [
    "import json\n",
    "from collections import Counter"
   ]
  },
  {
   "cell_type": "code",
   "execution_count": 2,
   "metadata": {},
   "outputs": [],
   "source": [
    "#\n",
    "with open('processor0.result') as f:\n",
    "    txt = f.read().split('\\n')\n",
    "import random\n",
    "random.shuffle(txt)\n",
    "l = len(txt)\n",
    "with open('outputs_train.txt','w') as f:\n",
    "    f.write('\\n'.join(txt[0:int(0.7*l)]))\n",
    "with open('outputs_test.txt','w') as f:\n",
    "    f.write('\\n'.join(txt[int(0.7*l):int(0.95*l)]))\n",
    "with open('outputs_val.txt','w') as f:\n",
    "    f.write('\\n'.join(txt[int(0.95*l):]))"
   ]
  },
  {
   "cell_type": "code",
   "execution_count": 6,
   "metadata": {
    "collapsed": true
   },
   "outputs": [],
   "source": [
    "def preprocess(line):\n",
    "    line = line.replace(\"'\",\" ' \")\n",
    "    line = line.replace('\"',' \" ')\n",
    "    line = line.replace('.',' . ')\n",
    "    line = line.replace(',',' , ')\n",
    "    line = line.replace('+',' + ')\n",
    "    line = line.replace('-',' - ')\n",
    "    line = line.replace('=',' = ')\n",
    "    line = line.replace('= =','==')\n",
    "    line = line.replace('/',' / ')\n",
    "    line = line.replace('*',' * ')\n",
    "    line = line.replace('(',' ( ')\n",
    "    line = line.replace(')',' ) ')\n",
    "    line = line.replace('[',' [ ')\n",
    "    line = line.replace(']',' ] ')\n",
    "    line = line.replace('<',' < ')\n",
    "    line = line.replace('>',' > ')\n",
    "    line = line.replace('{',' { ')\n",
    "    line = line.replace('}',' } ')\n",
    "    line = line.replace(' %NWL%','%NWL%')\n",
    "    line = line.replace(' %NWL% ','%NWL%')\n",
    "    line = line.replace('%NWL% ','%NWL%')\n",
    "    line = line.replace(':',' : ')\n",
    "    line = line.replace(';',' ; ')\n",
    "    line = line.replace('  ',' ')\n",
    "    line = line.strip()\n",
    "    return line"
   ]
  },
  {
   "cell_type": "code",
   "execution_count": 7,
   "metadata": {
    "collapsed": true
   },
   "outputs": [],
   "source": [
    "file_list = ['outputs_train.txt', 'outputs_val.txt', 'outputs_test.txt']\n",
    "for file in file_list:\n",
    "    with open(file) as f:\n",
    "        txt = f.read()\n",
    "    txt = '\\n'.join([preprocess(line) for line in txt.split('\\n')])\n",
    "    with open(file,'w') as f:\n",
    "        f.write(txt)"
   ]
  },
  {
   "cell_type": "code",
   "execution_count": null,
   "metadata": {
    "collapsed": true
   },
   "outputs": [],
   "source": []
  }
 ],
 "metadata": {
  "kernelspec": {
   "display_name": "Python [conda env:pytorch]",
   "language": "python",
   "name": "conda-env-pytorch-py"
  },
  "language_info": {
   "codemirror_mode": {
    "name": "ipython",
    "version": 3
   },
   "file_extension": ".py",
   "mimetype": "text/x-python",
   "name": "python",
   "nbconvert_exporter": "python",
   "pygments_lexer": "ipython3",
   "version": "3.5.3"
  }
 },
 "nbformat": 4,
 "nbformat_minor": 2
}
