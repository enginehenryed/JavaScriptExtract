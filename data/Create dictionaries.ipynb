{
 "cells": [
  {
   "cell_type": "code",
   "execution_count": 2,
   "metadata": {
    "collapsed": true
   },
   "outputs": [],
   "source": [
    "import json\n",
    "from collections import Counter"
   ]
  },
  {
   "cell_type": "code",
   "execution_count": 8,
   "metadata": {
    "collapsed": true
   },
   "outputs": [],
   "source": [
    "counter = Counter()\n",
    "file_list = ['outputs_train.txt']\n",
    "for file in file_list:\n",
    "    with open(file) as f:\n",
    "        txt = f.read()\n",
    "    txt = txt.replace('\\n',' ').replace('%NWL%',' ')\n",
    "    txt = txt.split(' ')\n",
    "    counter += Counter(txt)"
   ]
  },
  {
   "cell_type": "code",
   "execution_count": 9,
   "metadata": {},
   "outputs": [
    {
     "data": {
      "text/plain": [
       "175827"
      ]
     },
     "execution_count": 9,
     "metadata": {},
     "output_type": "execute_result"
    }
   ],
   "source": [
    "len(counter.most_common())"
   ]
  },
  {
   "cell_type": "code",
   "execution_count": 16,
   "metadata": {
    "collapsed": true
   },
   "outputs": [],
   "source": [
    "for rng in [1000,3000,5000,10000,30000,50000]:\n",
    "    w2i = dict()\n",
    "    w2i['<PAD>'] = 0\n",
    "    w2i['<UNK>'] = 1\n",
    "    w2i['<SOS>'] = 2\n",
    "    w2i['<EOS>'] = 3\n",
    "    word_list = counter.most_common(rng)\n",
    "    for i in range(4,rng):\n",
    "        word = word_list[i-4][0]\n",
    "        w2i[word]=i\n",
    "    with open('dict_%d.json'%rng,'w') as f:\n",
    "        json.dump(fp=f,obj=w2i)"
   ]
  },
  {
   "cell_type": "code",
   "execution_count": null,
   "metadata": {
    "collapsed": true
   },
   "outputs": [],
   "source": []
  }
 ],
 "metadata": {
  "kernelspec": {
   "display_name": "Python [conda env:pytorch]",
   "language": "python",
   "name": "conda-env-pytorch-py"
  },
  "language_info": {
   "codemirror_mode": {
    "name": "ipython",
    "version": 3
   },
   "file_extension": ".py",
   "mimetype": "text/x-python",
   "name": "python",
   "nbconvert_exporter": "python",
   "pygments_lexer": "ipython3",
   "version": "3.5.3"
  }
 },
 "nbformat": 4,
 "nbformat_minor": 2
}
