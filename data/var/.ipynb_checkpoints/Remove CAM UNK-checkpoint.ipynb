{
 "cells": [
  {
   "cell_type": "code",
   "execution_count": 1,
   "metadata": {
    "collapsed": true
   },
   "outputs": [],
   "source": [
    "with open('dataset.txt') as f:\n",
    "    txt=f.read()\n",
    "txt = txt.replace(' <UND> ','_')\n",
    "lines = txt.split('\\n')"
   ]
  },
  {
   "cell_type": "code",
   "execution_count": 2,
   "metadata": {},
   "outputs": [
    {
     "data": {
      "text/plain": [
       "[\"var a = new constant <CAM> node ( 2 ) ; var n:==:new operator <CAM> node ( ' - ' , ' unary <CAM> minus ' , [ a ] ) ;\",\n",
       " 'var access <CAM> context = ctx . access <CAM> context ; var Principal:==:ctx . Principal ;',\n",
       " 'var internal <CAM> array = utils . internal <CAM> array ; var internal <CAM> packed <CAM> array:==:utils . internal <CAM> packed <CAM> array ;',\n",
       " 'var k = this . keys ; var n:==:k . index <CAM> of ( value . i d ) ;',\n",
       " 'var array <CAM> node = math . expression . node . array <CAM> node ; var assignment <CAM> node:==:math . expression . node . assignment <CAM> node ;',\n",
       " 'var concat   = empty <CAM> array . concat ; var push:==:empty <CAM> array . push ;',\n",
       " 'var traits = identify . traits ( ) ; var username:==:identify . username ( ) ;',\n",
       " 'var toJSON = schema . options . toJSON ; var to <CAM> object:==:schema . options . to <CAM> object ;',\n",
       " 'var y = cartesian3 . y ; var z:==:cartesian3 . z ;',\n",
       " 'var tx = m . tx ; var ty:==:m . ty ;',\n",
       " 'var key = this . key ; var arc:==:this . arc ;',\n",
       " 'var type = a <CAM> event . type ; var time <CAM> stamp:==:a <CAM> event . time <CAM> stamp ;',\n",
       " \"var folder_view = require ( ' folder_view ' ) ; var gui:==:require ( ' nw . gui ' ) ;\",\n",
       " 'var w = this . image . width ; var h:==:this . image . height ;',\n",
       " \"var react <CAM> instrumentation = require ( ' react <CAM> instrumentation ' ) ; var react <CAM> node <CAM> types:==:require ( ' react <CAM> node <CAM> types ' ) ;\",\n",
       " 'var image = this . image ; var aspect <CAM> ratio:==:image . aspect <CAM> ratio ;',\n",
       " 'var scroll <CAM> to <CAM> index = _ props . scroll <CAM> to <CAM> index ; var width:==:_ props . width ;',\n",
       " \"var background = _ img . attr ( ' data - background ' ) ; var src:==:_ img . attr ( ' data - src ' ) ;\",\n",
       " 'var start = Math . max ( range . start , this . start ) ; var end:==:Math . min ( range . end , this . end ) ;',\n",
       " 'var Application = Ember . Application ; var Controller:==:Ember . Controller ;',\n",
       " \"var assert   = require ( ' chai ' ) . assert ; var connect:==:require ( ' connect ' ) ;\",\n",
       " \"var muk = require ( ' muk ' ) ; var thinkit:==:require ( ' thinkit ' ) ;\",\n",
       " 'var processed <CAM> length = evt . processed <CAM> length ; var file <CAM> length:==:evt . file <CAM> length ;',\n",
       " 'var width = svg . width ( )  |  |  Chartist . quantity ( options . width ) . value  |  |  0 ; var height:==:svg . height ( )  |  |  Chartist . quantity ( options . height ) . value  |  |  0 ;',\n",
       " 'var crop = this . texture . crop ; var frame:==:this . texture . frame ;',\n",
       " 'var action = this . action ; var container:==:this . container ;',\n",
       " 'var context <CAM> options = options . context <CAM> options ; var credit <CAM> container:==:options . credit <CAM> container ;',\n",
       " \"var name = skin . name  |  |  ' skin ' + skin <CAM> node . skin ; var babylon <CAM> skeleton:==:skin . babylon <CAM> skeleton ;\",\n",
       " 'var scroll <CAM> left = Parallax . scroll <CAM> left ; var over <CAM> scroll:==:this . over <CAM> scroll <CAM> fix ? Parallax . over <CAM> scroll : 0 ;',\n",
       " \"var path = require ( ' path ' ) ; var crypto:==:require ( ' crypto ' ) ;\",\n",
       " 'var doc_id = doc_id_rev . substring ( 0 , idx ) ; var rev:==:doc_id_rev . substring ( idx + 2 ) ;',\n",
       " 'var weighted <CAM> sample = global . weighted <CAM> sample ; var getopt:==:global . getopt ;',\n",
       " 'var c = math . complex ( ) ; var flat:==:flatten ( [ c ] ) ;',\n",
       " \"var sample <CAM> draft <CAM> inline <CAM> style = require ( ' sample <CAM> draft <CAM> inline <CAM> style ' ) ; var create <CAM> character <CAM> list:==:require ( ' create <CAM> character <CAM> list ' ) ;\",\n",
       " 'var distance = input . distance ; var direction:==:input . direction ;',\n",
       " 'var isEOF = core <CAM> parser . isEOF ; var pdf <CAM> image:==:core <CAM> image . pdf <CAM> image ;',\n",
       " 'var start = selection . start ; var end:==:selection . end ;',\n",
       " \"var placeholder = el [ 0 ] . query <CAM> selector ( ' . md - placeholder ' ) ; var label:==:el . find ( ' label ' ) [ 0 ] ;\",\n",
       " \"var Promise = typeof global . Promise = = = ' function ' ? global . Promise : _ dereq _ ( ' lie ' ) ; var collate:==:pouch <CAM> collate . collate ;\",\n",
       " 'var callback = opt_callback  |  |  goog . null <CAM> function ; var errback:==:opt_errback  |  |  goog . null <CAM> function ;',\n",
       " 'var element = elements [ i ] ; var parent:==:element . parent <CAM> node ;',\n",
       " 'var tree = imports . tree ; var util:==:imports . util ;',\n",
       " 'var init = find <CAM> symbol <CAM> modes [ mode ] . init ; var is <CAM> complete:==:find <CAM> symbol <CAM> modes [ mode ] . is <CAM> complete ;',\n",
       " 'var q = $ q . defer ( ) ; var navigate:==:app <CAM> rate . navigate <CAM> to <CAM> app <CAM> store ( ) ;',\n",
       " \"var fs = require ( ' fs - extra ' ) ; var when:==:require ( ' when ' ) ;\",\n",
       " 'var header = this . header = new <CAM> records . header ; var body:==:this . body    new <CAM> records . body ;',\n",
       " 'var version = req . params . version ; var user:==:req . user ;',\n",
       " 'var selection <CAM> behavior = library . selection <CAM> behavior ; var selection <CAM> mode:==:library . selection <CAM> mode ;',\n",
       " \"var util = require ( ' util ' ) ; var detect <CAM> binary:==:Promise . denodeify ( mozrunner . detect <CAM> binary ) ;\",\n",
       " \"var node2 = new goog . ui . tree . tree <CAM> node ( ' node2 ' ) ; var node3:==:new goog . ui . tree . tree <CAM> node ( ' node3 ' ) ;\",\n",
       " 'var template = view . template ; var list:==:view . owner . list ;',\n",
       " \"var nonasci <CAM> iidentifier <CAM> start = new reg <CAM> exp ( ' [ ' + nonasci <CAM> iidentifier <CAM> start <CAM> chars + ' ] ' ) ; var nonasci <CAM> iidentifier:==:new reg <CAM> exp ( ' [ ' + nonasci <CAM> iidentifier <CAM> start <CAM> chars + nonasci <CAM> iidentifier <CAM> chars + ' ] ' ) ;\",\n",
       " 'var m00 = this . m00 _ ; var m10:==:this . m10 _ ;',\n",
       " \"var moment = require ( ' moment ' ) ; var util:==:require ( ' hexo - util ' ) ;\",\n",
       " 'var ctx = this . ctx ; var width:==:dom . width ;',\n",
       " \"var email = ( user . email  |  |  '' ) . trim ( ) . to <CAM> lower <CAM> case ( ) ; var name:==:user . name  |  |  ' default ' ;\",\n",
       " 'var env = process . env . NODE_ENV ; var write:==:process . stdout . write ;',\n",
       " \"var VARIABLE_DECLARATION_LIST = ' VARIABLE_DECLARATION_LIST ' ; var VARIABLE_STATEMENT:==:' VARIABLE_STATEMENT ' ;\",\n",
       " 'var i = find <CAM> chunk <CAM> index ( chunks , mid , is <CAM> orig ) ; var ch:==:chunks [ i ] ;',\n",
       " \"var iterated <CAM> string = Symbol ( ' iterated <CAM> string ' ) ; var string <CAM> iterator <CAM> next <CAM> index:==:Symbol ( ' string <CAM> iterator <CAM> next <CAM> index ' ) ;\",\n",
       " 'var char <CAM> code = char <CAM> codes [ i ] ; var char <CAM> code <CAM> to <CAM> glyph <CAM> id:==:new <CAM> mapping . char <CAM> code <CAM> to <CAM> glyph <CAM> id ;',\n",
       " \"var doc = window . document ; var script:==:doc . create <CAM> element ( ' script ' ) ;\",\n",
       " 'var object <CAM> loader = core <CAM> obj . object <CAM> loader ; var x <CAM> ref:==:core <CAM> obj . x <CAM> ref ;',\n",
       " \"var rx = this . attribute ( ' rx ' ) . to <CAM> pixels ( ' x ' ) ; var ry:==:this . attribute ( ' ry ' ) . to <CAM> pixels ( ' y ' ) ;\",\n",
       " 'var save <CAM> option = util . save <CAM> option ; var fill <CAM> dropdown:==:util . fill <CAM> dropdown ;',\n",
       " 'var source = link . source ; var target:==:link . target ;',\n",
       " 'var string = _ react$ <CAM> prop <CAM> types . string ; var object:==:_ react$ <CAM> prop <CAM> types . object ;',\n",
       " 'var center = SIMD . float32x4 ( center <CAM> vec . x , center <CAM> vec . y , center <CAM> vec . z , 0 . 0 ) ; var eye:==:SIMD . float32x4 ( eye <CAM> vec . x , eye <CAM> vec . y , eye <CAM> vec . z , 0 . 0 ) ;',\n",
       " 'var pin = this . _ elements . pin <CAM> input . value ; var new <CAM> pin:==:this . _ elements . new <CAM> pin <CAM> input . value ;',\n",
       " 'var set <CAM> innerhtml = scope . set <CAM> innerhtml ; var unwrap:==:scope . unwrap ;',\n",
       " \"var CANCELLED = ' CANCELLED ' ; var FLUSH:==:' FLUSH ' ;\",\n",
       " \"var command2 = command <CAM> manager . register ( ' Enabled when previous is Checked ' , ' extension <CAM> test . command2 ' , test <CAM> command2 ) ; var command3:==:command <CAM> manager . register ( ' Enabled when text selected ' , ' extension <CAM> test . command3 ' , test <CAM> command3 ) ;\",\n",
       " 'var a = foo : 123 , bar : 456 ; var b:==:bar : 789 ;',\n",
       " 'var Comment = window . Comment ; var dom <CAM> parser:==:window . dom <CAM> parser ;',\n",
       " \"var slide = s . slides . eq ( s . active <CAM> index ) ; var hash:==:slide . attr ( ' data - hash ' )  |  |  slide . attr ( ' data - history ' ) ;\",\n",
       " \"var end = this . new <CAM> block ( ' end for ' + gen <CAM> index ) ; var ge:==:generators [ gen <CAM> index ] ;\",\n",
       " \"var prefix = typeof o . prefix = = = ' undefined ' & & ' assert '  |  |  o . prefix ; var include <CAM> fail:==:typeof o . include <CAM> fail      ' undefined '  |  |  ! ! o . include <CAM> fail ;\",\n",
       " 'var s = ctx . stroke <CAM> style ; var f:==:ctx . fill <CAM> style ;',\n",
       " 'var row = Math . min ( this . rows , this . lines . length ) - 1 ; var line:==:this . lines [ row ] ;',\n",
       " \"var feature <CAM> prefix = context [ ' feature <CAM> prefix ' ] ; var featureNS:==:context [ ' featureNS ' ] ;\",\n",
       " \"var Bridge = require ( ' hap - nodejs ' ) . Bridge ; var Accessory:==:require ( ' hap - nodejs ' ) . Accessory ;\",\n",
       " 'var Dialog = imports . Dialog ; var apf:==:imports . apf ;',\n",
       " \"var nconf = require ( ' nconf ' ) ; var exec:==:require ( ' child_process ' ) . exec ;\",\n",
       " \"var should = require ( ' should ' ) ; var nssocket:==:require ( ' nssocket ' ) ;\",\n",
       " 'var container = this . els . container ; var seek <CAM> bar:==:this . els . seek <CAM> bar ;',\n",
       " 'var parse <CAM> tree <CAM> visitor = traceur . syntax . parse <CAM> tree <CAM> visitor ; var module <CAM> symbol:==:traceur . semantics . symbols . module <CAM> symbol ;',\n",
       " 'var proc = imports . proc ; var fs:==:imports . fs ;',\n",
       " 'var save = imports . save ; var proc:==:imports . proc ;',\n",
       " 'var Imaging = Windows . Graphics . Imaging ; var Media:==:Windows . Media ;',\n",
       " \"var casper = require ( ' casper ' ) . create ( ) ; var json:==:require ( ' json ' ) ;\",\n",
       " \"var field = row . find ( ' . field ' ) . val ( ) ; var op:==:row . find ( ' . op ' ) . val ( ) ;\",\n",
       " 'var penetration <CAM> deceleration = self . options . penetration <CAM> deceleration ; var penetration <CAM> acceleration:==:self . options . penetration <CAM> acceleration ;',\n",
       " \"var walk = require ( ' pug - walk ' ) ; var assign:==:require ( ' object - assign ' ) ;\",\n",
       " 'var floor = stdlib . Math . floor ; var sqrt:==:stdlib . Math . sqrt ;',\n",
       " 'var params = ob . params ; var app_id:==:params . qstring . app_id ;',\n",
       " \"var body = this . get <CAM> dom ( ' body ' ) ; var width:==:ui <CAM> utils . get <CAM> client <CAM> rect ( this . get <CAM> dom ( ' content ' ) ) . width ;\",\n",
       " 'var merge = PouchDB . utils . merge ; var winning <CAM> rev:==:PouchDB . utils . winning <CAM> rev ;',\n",
       " 'var weibo = validator . trim ( req . body . weibo ) ; var signature:==:validator . trim ( req . body . signature ) ;',\n",
       " \"var sinon = require ( ' sinon ' ) ; var should:==:require ( ' should ' ) ;\",\n",
       " 'var key <CAM> utils = js <CAM> common . key <CAM> utils ; var string <CAM> extensions:==:js <CAM> common . string <CAM> extensions ;']"
      ]
     },
     "execution_count": 2,
     "metadata": {},
     "output_type": "execute_result"
    }
   ],
   "source": [
    "lines[:100]"
   ]
  },
  {
   "cell_type": "code",
   "execution_count": 19,
   "metadata": {},
   "outputs": [],
   "source": [
    "out_list = []\n",
    "for line in lines:\n",
    "    line = line.split(' <CAM> ')\n",
    "    out = [line[0]] + [tok.capitalize() for tok in line[1:]]\n",
    "    out_list.append(''.join(out))"
   ]
  },
  {
   "cell_type": "code",
   "execution_count": 21,
   "metadata": {},
   "outputs": [],
   "source": [
    "with open('dataset.txt','w') as f:\n",
    "    f.write('\\n'.join(out_list))"
   ]
  }
 ],
 "metadata": {
  "kernelspec": {
   "display_name": "Python [conda env:pytorch]",
   "language": "python",
   "name": "conda-env-pytorch-py"
  },
  "language_info": {
   "codemirror_mode": {
    "name": "ipython",
    "version": 3
   },
   "file_extension": ".py",
   "mimetype": "text/x-python",
   "name": "python",
   "nbconvert_exporter": "python",
   "pygments_lexer": "ipython3",
   "version": "3.5.3"
  }
 },
 "nbformat": 4,
 "nbformat_minor": 2
}
